{
  "nbformat": 4,
  "nbformat_minor": 0,
  "metadata": {
    "colab": {
      "provenance": []
    },
    "kernelspec": {
      "name": "python3",
      "display_name": "Python 3"
    },
    "language_info": {
      "name": "python"
    }
  },
  "cells": [
    {
      "cell_type": "code",
      "source": [
        "from PIL import Image\n",
        "import os\n",
        "\n",
        "def resize_image(input_path, output_path, width, height):\n",
        "    try:\n",
        "        with Image.open(input_path) as img:\n",
        "            resized_img = img.resize((width, height))\n",
        "            resized_img.save(output_path)\n",
        "            print(f\"Image saved to {output_path}\")\n",
        "    except Exception as e:\n",
        "        print(\"Error:\", e)\n",
        "\n",
        "if __name__ == \"__main__\":\n",
        "    input_path = input(\"Enter path of the image: \")\n",
        "    output_path = input(\"Enter path to save resized image: \")\n",
        "    width = int(input(\"Enter new width: \"))\n",
        "    height = int(input(\"Enter new height: \"))\n",
        "\n",
        "    resize_image(input_path, output_path, width, height)\n"
      ],
      "metadata": {
        "id": "hFZsTErH9fDz"
      },
      "execution_count": null,
      "outputs": []
    }
  ]
}